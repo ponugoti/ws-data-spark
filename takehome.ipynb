{
 "metadata": {
  "language_info": {
   "codemirror_mode": {
    "name": "ipython",
    "version": 3
   },
   "file_extension": ".py",
   "mimetype": "text/x-python",
   "name": "python",
   "nbconvert_exporter": "python",
   "pygments_lexer": "ipython3",
   "version": "3.8.2-final"
  },
  "orig_nbformat": 2,
  "kernelspec": {
   "name": "python3",
   "display_name": "Python 3.8.2 64-bit ('py38': conda)",
   "metadata": {
    "interpreter": {
     "hash": "dba2eb6709c9760ece0c88a47ed7987433aa2131181da98756b93d9d7ffe864e"
    }
   }
  }
 },
 "nbformat": 4,
 "nbformat_minor": 2,
 "cells": [
  {
   "source": [
    "# Work Sample Problems - Data Engineering"
   ],
   "cell_type": "markdown",
   "metadata": {}
  },
  {
   "cell_type": "code",
   "execution_count": 32,
   "metadata": {},
   "outputs": [],
   "source": [
    "from pyspark.sql import SparkSession\n",
    "from pyspark.sql.window import Window\n",
    "from pyspark.sql.functions import count, min\n",
    "\n",
    "from pathlib import Path\n",
    "from math import pi"
   ]
  },
  {
   "cell_type": "code",
   "execution_count": 2,
   "metadata": {},
   "outputs": [],
   "source": [
    "data_path = Path('data')\n",
    "sample_file_path = data_path / 'DataSample.csv'\n",
    "poi_file_path = data_path / 'POIList.csv'"
   ]
  },
  {
   "cell_type": "code",
   "execution_count": 3,
   "metadata": {},
   "outputs": [],
   "source": [
    "spark = SparkSession.builder.appName('EQ_Works').getOrCreate()"
   ]
  },
  {
   "source": [
    "## Create dataframes from CSV files"
   ],
   "cell_type": "markdown",
   "metadata": {}
  },
  {
   "cell_type": "code",
   "execution_count": 4,
   "metadata": {},
   "outputs": [
    {
     "output_type": "stream",
     "name": "stdout",
     "text": [
      "+------+------------+-------------+\n|POI_ID|POI_Latitude|POI_Longitude|\n+------+------------+-------------+\n|  POI1|   53.546167|  -113.485734|\n|  POI2|   53.546167|  -113.485734|\n|  POI3|   45.521629|   -73.566024|\n|  POI4|    45.22483|   -63.232729|\n+------+------------+-------------+\n\n"
     ]
    }
   ],
   "source": [
    "poi_df = spark.read.csv(str(poi_file_path), inferSchema=True, header=True) \\\n",
    "            .toDF('POI_ID', 'POI_Latitude', 'POI_Longitude')\n",
    "poi_df.show(5)"
   ]
  },
  {
   "cell_type": "code",
   "execution_count": 5,
   "metadata": {},
   "outputs": [
    {
     "output_type": "stream",
     "name": "stdout",
     "text": [
      "+-------+--------------------+-------+--------+---------+--------+---------+\n|     ID|              TimeSt|Country|Province|     City|Latitude|Longitude|\n+-------+--------------------+-------+--------+---------+--------+---------+\n|4516516|2017-06-21 00:00:...|     CA|      ON| Waterloo|43.49347|-80.49123|\n|4516547|2017-06-21 18:00:...|     CA|      ON|   London| 42.9399| -81.2709|\n|4516550|2017-06-21 15:00:...|     CA|      ON|   Guelph| 43.5776| -80.2201|\n|4516600|2017-06-21 15:00:...|     CA|      ON|Stratford| 43.3716| -80.9773|\n|4516613|2017-06-21 15:00:...|     CA|      ON|Stratford| 43.3716| -80.9773|\n+-------+--------------------+-------+--------+---------+--------+---------+\nonly showing top 5 rows\n\n"
     ]
    }
   ],
   "source": [
    "data_df = spark.read.csv(str(sample_file_path), inferSchema=True, header=True) \\\n",
    "            .toDF('ID', 'TimeSt', 'Country', 'Province', 'City', 'Latitude', 'Longitude')\n",
    "data_df.show(5)"
   ]
  },
  {
   "source": [
    "## 1. Cleanup\n",
    "\n",
    "Remove duplicates and filter suspicious records"
   ],
   "cell_type": "markdown",
   "metadata": {}
  },
  {
   "cell_type": "code",
   "execution_count": 6,
   "metadata": {},
   "outputs": [],
   "source": [
    "data_df_clean = data_df \\\n",
    "    .select(\n",
    "        '*',\n",
    "        count('*').over(Window.partitionBy('TimeSt', 'Latitude', 'Longitude')).alias('count')\n",
    "    ) \\\n",
    "    .where('count = 1') \\\n",
    "    .drop('count')"
   ]
  },
  {
   "cell_type": "code",
   "execution_count": 7,
   "metadata": {},
   "outputs": [
    {
     "output_type": "stream",
     "name": "stdout",
     "text": [
      "Filtered 4052/22025 rows -> 17973 remaining.\n"
     ]
    }
   ],
   "source": [
    "d = (t := data_df.count()) - (c := data_df_clean.count())\n",
    "print(f'Filtered {d}/{t} rows -> {c} remaining.')"
   ]
  },
  {
   "cell_type": "code",
   "execution_count": 8,
   "metadata": {},
   "outputs": [
    {
     "output_type": "stream",
     "name": "stdout",
     "text": [
      "+------+------------+-------------+\n|POI_ID|POI_Latitude|POI_Longitude|\n+------+------------+-------------+\n|  POI1|   53.546167|  -113.485734|\n|  POI4|    45.22483|   -63.232729|\n|  POI3|   45.521629|   -73.566024|\n+------+------------+-------------+\n\n"
     ]
    }
   ],
   "source": [
    "poi_df_dedup = poi_df.drop_duplicates(['POI_Latitude', 'POI_Longitude'])\n",
    "poi_df_dedup.show(5)"
   ]
  },
  {
   "source": [
    "## 2. Label\n",
    "Assign each request to the closest PO\n"
   ],
   "cell_type": "markdown",
   "metadata": {}
  },
  {
   "cell_type": "code",
   "execution_count": 9,
   "metadata": {},
   "outputs": [
    {
     "output_type": "stream",
     "name": "stdout",
     "text": [
      "+-------+--------------------+-------+--------+---------+--------+---------+------+------------+-------------+\n|     ID|              TimeSt|Country|Province|     City|Latitude|Longitude|POI_ID|POI_Latitude|POI_Longitude|\n+-------+--------------------+-------+--------+---------+--------+---------+------+------------+-------------+\n|5613403|2017-06-21 00:22:...|     CA|      ON|Etobicoke| 43.6381| -79.5787|  POI1|   53.546167|  -113.485734|\n|5613403|2017-06-21 00:22:...|     CA|      ON|Etobicoke| 43.6381| -79.5787|  POI4|    45.22483|   -63.232729|\n|5613403|2017-06-21 00:22:...|     CA|      ON|Etobicoke| 43.6381| -79.5787|  POI3|   45.521629|   -73.566024|\n|5013924|2017-06-21 00:34:...|     CA|      ON|  Toronto| 43.6606| -79.4635|  POI1|   53.546167|  -113.485734|\n|5013924|2017-06-21 00:34:...|     CA|      ON|  Toronto| 43.6606| -79.4635|  POI4|    45.22483|   -63.232729|\n+-------+--------------------+-------+--------+---------+--------+---------+------+------------+-------------+\nonly showing top 5 rows\n\n"
     ]
    }
   ],
   "source": [
    "cross_df = data_df_clean.crossJoin(poi_df_dedup)\n",
    "cross_df.show(5)"
   ]
  },
  {
   "cell_type": "code",
   "execution_count": 10,
   "metadata": {},
   "outputs": [
    {
     "output_type": "stream",
     "name": "stdout",
     "text": [
      "Requirement already satisfied: haversine in /Users/jessep/anaconda3/envs/py38/lib/python3.8/site-packages (2.3.0)\n"
     ]
    }
   ],
   "source": [
    "# Use haversine formula to calcuate distance between coordinates\n",
    "!pip3 install haversine\n",
    "\n",
    "from haversine import haversine as hd\n",
    "\n",
    "@udf(returnType='double')\n",
    "def haversine(lat1, lng1, lat2, lng2):\n",
    "    start = (float(lat1), float(lng1))\n",
    "    end = (float(lat2), float(lng2))\n",
    "\n",
    "    return hd(start, end, unit='km')"
   ]
  },
  {
   "cell_type": "code",
   "execution_count": 11,
   "metadata": {},
   "outputs": [
    {
     "output_type": "stream",
     "name": "stdout",
     "text": [
      "+-------+--------+---------+------+------------+-------------+------------------+\n|     ID|Latitude|Longitude|POI_ID|POI_Latitude|POI_Longitude|   min_distance_km|\n+-------+--------+---------+------+------------+-------------+------------------+\n|4517905| 42.2957| -82.9599|  POI3|   45.521629|   -73.566024| 832.9570550053622|\n|4526426|46.72072|-71.30409|  POI3|   45.521629|   -73.566024|219.46182926617928|\n|4535091|  51.049|-113.9622|  POI1|   53.546167|  -113.485734| 279.5548830773176|\n|4545807|43.85883|-79.29809|  POI3|   45.521629|   -73.566024| 489.2506101021576|\n|4559622| 44.2647| -76.5504|  POI3|   45.521629|   -73.566024|273.47008304760004|\n+-------+--------+---------+------+------------+-------------+------------------+\nonly showing top 5 rows\n\n"
     ]
    }
   ],
   "source": [
    "min_dist_df = cross_df \\\n",
    "    .select(\n",
    "        'ID',\n",
    "        'Latitude',\n",
    "        'Longitude',\n",
    "        'POI_ID',\n",
    "        'POI_Latitude',\n",
    "        'POI_Longitude',\n",
    "        haversine('Latitude', 'Longitude', 'POI_Latitude', 'POI_Longitude') \\\n",
    "            .alias('distance_km'),\n",
    "        min(haversine('Latitude', 'Longitude', 'POI_Latitude', 'POI_Longitude')) \\\n",
    "            .over(Window.partitionBy('ID')) \\\n",
    "            .alias('min_distance_km')\n",
    "    ) \\\n",
    "    .where('distance_km = min_distance_km') \\\n",
    "    .drop('distance_km')\n",
    "min_dist_df.show(5)"
   ]
  },
  {
   "source": [
    "## 3. Analysis\n",
    "#### 3.1. Calculate the average and std of the distance between the _POI_ to each of its assigned _requests_\n",
    "#### 3.2. Calculate the density of requests (around the radius) of each _POI_"
   ],
   "cell_type": "markdown",
   "metadata": {}
  },
  {
   "cell_type": "code",
   "execution_count": 34,
   "metadata": {},
   "outputs": [],
   "source": [
    "poi_metrics_df = min_dist_df \\\n",
    "    .groupBy('POI_ID') \\\n",
    "    .agg(\n",
    "        count('*').alias('num_requests'),\n",
    "        avg('min_distance_km').alias('avg_distance'),\n",
    "        stddev('min_distance_km').alias('std_distance'),\n",
    "        max('min_distance_km').alias('radius')\n",
    "    ) \\\n",
    "    .select(\n",
    "        'POI_ID',\n",
    "        'num_requests',\n",
    "        'avg_distance',\n",
    "        'std_distance',\n",
    "        'radius',\n",
    "        round(col('num_requests') / (pi * col('radius') ** 2), 8).alias('density')\n",
    "    )"
   ]
  },
  {
   "cell_type": "code",
   "execution_count": 35,
   "metadata": {},
   "outputs": [
    {
     "output_type": "stream",
     "name": "stdout",
     "text": [
      "+------+------------+-----------------+------------------+------------------+----------+\n|POI_ID|num_requests|     avg_distance|      std_distance|            radius|   density|\n+------+------------+-----------------+------------------+------------------+----------+\n|  POI4|         422|514.9978833256106|1506.8920521753998| 9349.585684667303|   1.54E-6|\n|  POI1|        8749| 300.715162933584| 388.2739215695841|11531.836760265795|  2.094E-5|\n|  POI3|        8802|451.6517730486509| 223.6320507243465|1474.5829988065425|0.00128853|\n+------+------------+-----------------+------------------+------------------+----------+\n\n"
     ]
    }
   ],
   "source": [
    "poi_metrics_df.show(5)"
   ]
  },
  {
   "source": [
    "## 4. "
   ],
   "cell_type": "markdown",
   "metadata": {}
  }
 ]
}
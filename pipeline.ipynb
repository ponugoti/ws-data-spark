{
 "metadata": {
  "language_info": {
   "codemirror_mode": {
    "name": "ipython",
    "version": 3
   },
   "file_extension": ".py",
   "mimetype": "text/x-python",
   "name": "python",
   "nbconvert_exporter": "python",
   "pygments_lexer": "ipython3",
   "version": "3.8.2-final"
  },
  "orig_nbformat": 2,
  "kernelspec": {
   "name": "python3",
   "display_name": "Python 3.8.2 64-bit ('py38': conda)",
   "metadata": {
    "interpreter": {
     "hash": "dba2eb6709c9760ece0c88a47ed7987433aa2131181da98756b93d9d7ffe864e"
    }
   }
  }
 },
 "nbformat": 4,
 "nbformat_minor": 2,
 "cells": [
  {
   "source": [
    "## 4.b. Pipeline Dependency"
   ],
   "cell_type": "markdown",
   "metadata": {}
  },
  {
   "cell_type": "code",
   "execution_count": 13,
   "metadata": {},
   "outputs": [],
   "source": [
    "from collections import defaultdict\n",
    "from os import PathLike\n",
    "from typing import Iterable, Tuple"
   ]
  },
  {
   "cell_type": "code",
   "execution_count": 4,
   "metadata": {},
   "outputs": [],
   "source": [
    "class TaskScheduler:\n",
    "\n",
    "  def __init__(self):\n",
    "    self.dependencies_dag = defaultdict(list)\n",
    "    self.explored = defaultdict(str)\n",
    "    self.run_sequence = []\n",
    "\n",
    "def _topological_sort(task):\n",
    "    self.explored[task] = 'e'  # 'e' indicates explored locally once\n",
    "    \n",
    "    for dep in self.dependencies_dag[task]:\n",
    "        if dep not in self.explored:\n",
    "            if _topological_sort(dep) is False:\n",
    "            return False\n",
    "\n",
    "        elif self.explored[dep] == 'e':  # Cyclic! Not a DAG, return false \n",
    "            print('Cycle Detected, Not a DAG!')\n",
    "            return False\n",
    "\n",
    "    self.run_sequence.append(task)\n",
    "    self.explored[task] = 'E'  # 'E' indicates explored globally w/o cycles!\n",
    "    return True\n",
    "\n",
    "  def get_task_flow(self, ntasks, dependencies):\n",
    "    # Build the DAG\n",
    "    for task, dependency in dependencies:\n",
    "        self.dependencies_dag[task].append(dependency)\n",
    "\n",
    "    print(f'# of Tasks: {ntasks}')\n",
    "    print(f'Task Dependency DAG: {dependencies}')\n",
    "\n",
    "    for task in range(ntasks):\n",
    "        if task not in self.explored:\n",
    "            if _topological_sort(task) is False:\n",
    "                return []  # Not a DAG\n",
    "\n",
    "    return self.run_sequence"
   ]
  },
  {
   "cell_type": "code",
   "execution_count": 21,
   "metadata": {},
   "outputs": [],
   "source": [
    "def dependency_tuples(filepath: PathLike) -> Iterable[Tuple]:\n",
    "    with open(filepath, 'r') as f:\n",
    "        lines = f.read().splitlines()\n",
    "    tuples = [tuple(line.split('->')) for line in lines]\n",
    "\n",
    "    return tuples"
   ]
  },
  {
   "cell_type": "code",
   "execution_count": 22,
   "metadata": {},
   "outputs": [
    {
     "output_type": "execute_result",
     "data": {
      "text/plain": [
       "[('97', '102'),\n",
       " ('75', '31'),\n",
       " ('75', '37'),\n",
       " ('100', '20'),\n",
       " ('102', '36'),\n",
       " ('102', '37'),\n",
       " ('102', '31'),\n",
       " ('16', '37'),\n",
       " ('39', '73'),\n",
       " ('39', '100'),\n",
       " ('41', '73'),\n",
       " ('41', '112'),\n",
       " ('62', '55'),\n",
       " ('112', '97'),\n",
       " ('20', '94'),\n",
       " ('20', '97'),\n",
       " ('21', '20'),\n",
       " ('73', '20'),\n",
       " ('56', '102'),\n",
       " ('56', '75'),\n",
       " ('56', '55'),\n",
       " ('55', '31'),\n",
       " ('55', '37'),\n",
       " ('94', '56'),\n",
       " ('94', '102')]"
      ]
     },
     "metadata": {},
     "execution_count": 22
    }
   ],
   "source": [
    "dependency_tuples('data/relations.txt')"
   ]
  },
  {
   "cell_type": "code",
   "execution_count": 6,
   "metadata": {},
   "outputs": [
    {
     "output_type": "stream",
     "name": "stdout",
     "text": [
      "# of Tasks: 2\nTask Dependency DAG: [(1, 0)]\nRun Sequence:  [0, 1]\n# of Tasks: 2\nTask Dependency DAG: [[1, 0], [0, 1]]\nCycle Detected, Not a DAG!\nRun Sequence:  []\n# of Tasks: 4\nTask Dependency DAG: [[2, 0], [1, 0], [1, 3], [3, 2]]\nRun Sequence:  [0, 2, 3, 1]\n# of Tasks: 3\nTask Dependency DAG: [[1, 0], [1, 2], [0, 1]]\nCycle Detected, Not a DAG!\nRun Sequence:  []\n# of Tasks: 6\nTask Dependency DAG: [[5, 1], [1, 4], [3, 5], [3, 4], [2, 3], [2, 0], [0, 1]]\nRun Sequence:  [4, 1, 0, 5, 3, 2]\n"
     ]
    }
   ],
   "source": [
    "tasks_and_dependencies = [\n",
    "# Format:\n",
    "# ( N Tasks, Tasks Dependency Tuples as [(Task, Dependant Task), ...])\n",
    "    (2, [(1, 0)]),\n",
    "    (2, [[1, 0], [0, 1]]),  # Not a valid DAG, has a Cycle\n",
    "    (4, [[2, 0], [1, 0], [1, 3], [3, 2]]),\n",
    "    (3, [[1, 0], [1, 2], [0, 1]]),  # Not a valid DAG, has a Cycle\n",
    "    (6, [[5, 1], [1, 4], [3, 5], [3, 4], [2, 3], [2, 0], [0, 1]]) # <-- Example used in the post\n",
    "]\n",
    "\n",
    "dependencies = dependency_tuples('data/relations.txt')\n",
    "\n",
    "ts = TaskScheduler()\n",
    "\n",
    "for ntasks, td in tasks_and_dependencies:\n",
    "    print('Run Sequence: ', ts.get_task_flow(ntasks, td))"
   ]
  },
  {
   "cell_type": "code",
   "execution_count": null,
   "metadata": {},
   "outputs": [],
   "source": []
  }
 ]
}
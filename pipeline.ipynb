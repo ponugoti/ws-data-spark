{
 "metadata": {
  "language_info": {
   "codemirror_mode": {
    "name": "ipython",
    "version": 3
   },
   "file_extension": ".py",
   "mimetype": "text/x-python",
   "name": "python",
   "nbconvert_exporter": "python",
   "pygments_lexer": "ipython3",
   "version": "3.8.2-final"
  },
  "orig_nbformat": 2,
  "kernelspec": {
   "name": "python3",
   "display_name": "Python 3.8.2 64-bit",
   "metadata": {
    "interpreter": {
     "hash": "dba2eb6709c9760ece0c88a47ed7987433aa2131181da98756b93d9d7ffe864e"
    }
   }
  }
 },
 "nbformat": 4,
 "nbformat_minor": 2,
 "cells": [
  {
   "source": [
    "# 4.b. Pipeline Dependency"
   ],
   "cell_type": "markdown",
   "metadata": {}
  },
  {
   "cell_type": "code",
   "execution_count": 1,
   "metadata": {},
   "outputs": [],
   "source": [
    "from collections import defaultdict\n",
    "from queue import Queue"
   ]
  },
  {
   "cell_type": "code",
   "execution_count": 2,
   "metadata": {},
   "outputs": [],
   "source": [
    "class TaskScheduler:\n",
    "\n",
    "    def __init__(self, relations):\n",
    "        self.relations = relations\n",
    "        self.dependencies = self._dependency_dict(relations)\n",
    "\n",
    "    def _dependency_dict(self, relations):\n",
    "        dependencies = defaultdict(list)\n",
    "        for task, dependent in relations:\n",
    "            dependencies[dependent].append(task)\n",
    "        return dependencies\n",
    "\n",
    "    def get_task_flow(self, start_tasks, goal_tasks):\n",
    "        task_flow = []\n",
    "        queue = Queue()\n",
    "\n",
    "        for task in goal_tasks:\n",
    "            queue.put(task)\n",
    "\n",
    "        while not queue.empty():\n",
    "            # move a scheduled task up to run earlier\n",
    "            # if an earlier dependency exists\n",
    "            if (task := queue.get()) in task_flow:\n",
    "                task_flow.remove(task)\n",
    "\n",
    "            task_flow.append(task)\n",
    "            \n",
    "            # starting tasks already satisfy dependencies\n",
    "            if task not in start_tasks:\n",
    "                # put dependencies of current task in queue\n",
    "                for dependency in self.dependencies[task]:\n",
    "                    queue.put(dependency)\n",
    "        \n",
    "        return list(reversed(task_flow))\n"
   ]
  },
  {
   "cell_type": "code",
   "execution_count": 3,
   "metadata": {},
   "outputs": [],
   "source": [
    "def read_relation_tuples(filepath):\n",
    "    with open(filepath, 'r') as f:\n",
    "        lines = f.read().splitlines()\n",
    "\n",
    "    tuples = [tuple(map(int, line.split('->'))) for line in lines]\n",
    "\n",
    "    return tuples"
   ]
  },
  {
   "cell_type": "code",
   "execution_count": 4,
   "metadata": {},
   "outputs": [
    {
     "output_type": "stream",
     "name": "stdout",
     "text": [
      "Run Sequence: [39, 73, 21, 100, 20, 41, 94, 112, 56, 97, 102, 36]\n"
     ]
    }
   ],
   "source": [
    "starting_tasks = [73]\n",
    "goal_tasks = [36]\n",
    "\n",
    "relations = read_relation_tuples('data/relations.txt')\n",
    "ts = TaskScheduler(relations)\n",
    "\n",
    "task_flow = ts.get_task_flow(starting_tasks, goal_tasks)\n",
    "print(f'Run Sequence: {task_flow}')"
   ]
  },
  {
   "cell_type": "code",
   "execution_count": null,
   "metadata": {},
   "outputs": [],
   "source": []
  }
 ]
}